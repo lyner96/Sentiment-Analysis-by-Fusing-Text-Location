{
 "cells": [
  {
   "cell_type": "code",
   "execution_count": 2,
   "id": "guided-violin",
   "metadata": {},
   "outputs": [
    {
     "name": "stdout",
     "output_type": "stream",
     "text": [
      "WARNING:tensorflow:From /home/lyner/Documents/SA_Fusing_Text_Location/venv/lib/python3.8/site-packages/tensorflow/python/compat/v2_compat.py:96: disable_resource_variables (from tensorflow.python.ops.variable_scope) is deprecated and will be removed in a future version.\n",
      "Instructions for updating:\n",
      "non-resource variables are not supported in the long term\n"
     ]
    }
   ],
   "source": [
    "# Seed value\n",
    "seed_value= 7\n",
    "\n",
    "# Set the `PYTHONHASHSEED` environment variable at a fixed value\n",
    "import os\n",
    "os.environ['PYTHONHASHSEED']=str(seed_value)\n",
    "\n",
    "# Set the `python` built-in pseudo-random generator at a fixed value\n",
    "import random\n",
    "random.seed(seed_value)\n",
    "\n",
    "# Set the `numpy` pseudo-random generator at a fixed value\n",
    "import numpy as np\n",
    "np.random.seed(seed_value)\n",
    "\n",
    "# Set the `tensorflow` pseudo-random generator at a fixed value\n",
    "import tensorflow\n",
    "tensorflow.random.set_seed(seed_value)\n",
    "\n",
    "os.environ['CUDA_VISIBLE_DEVICES'] = '-1'\n",
    "tensorflow.config.set_visible_devices([], 'GPU')\n",
    "\n",
    "tensorflow.compat.v1.disable_v2_behavior()\n",
    "import pandas as pd\n",
    "from tensorflow.compat.v1.keras import Sequential\n",
    "from sklearn.model_selection import train_test_split\n",
    "from tensorflow_addons.layers import MultiHeadAttention\n",
    "from tensorflow.compat.v1.keras.preprocessing.text import Tokenizer\n",
    "from tensorflow.compat.v1.keras.preprocessing.sequence import pad_sequences\n",
    "from tensorflow.compat.v1.keras.models import Model\n",
    "from tensorflow.compat.v1.keras.initializers import Constant\n",
    "from tensorflow.compat.v1.keras.layers import Layer, Convolution1D, Embedding, Dense, Flatten, MaxPooling1D, Input, Bidirectional, LSTM, GlobalAveragePooling1D, LayerNormalization, Dropout\n",
    "from tensorflow.compat.v1.keras.callbacks import EarlyStopping\n",
    "import shap"
   ]
  },
  {
   "cell_type": "code",
   "execution_count": 3,
   "id": "settled-announcement",
   "metadata": {},
   "outputs": [],
   "source": [
    "def run(task, model_type, i):\n",
    "    \n",
    "    ### Dataset selection\n",
    "    \n",
    "    df = pd.read_csv('data/geo_microblog.csv')\n",
    "    df = df[df.sentiment != 1]\n",
    "    df.sentiment.replace(2, 1, inplace=True) # neutral\n",
    "\n",
    "    ### Text processing\n",
    "    \n",
    "    # prepare tokenizer\n",
    "    \n",
    "    t = Tokenizer()\n",
    "    t.fit_on_texts(df['text'])\n",
    "    vocab_size = len(t.word_index) + 1\n",
    "    \n",
    "    # integer encode the documents\n",
    "    \n",
    "    encoded_docs = t.texts_to_sequences(df['text'])\n",
    "    txtlen = 30\n",
    "    loclen = 0\n",
    "    \n",
    "    # pad documents to a max length \n",
    "    \n",
    "    padded_docs = pad_sequences(encoded_docs, txtlen, padding='post')\n",
    "\n",
    "    ### Prepare train and test set\n",
    "    \n",
    "    x_train, x_test, y_train, y_test = train_test_split(padded_docs, df['sentiment'], test_size=0.3, random_state=100)\n",
    "    \n",
    "    ### Pretrained word embedding\n",
    "\n",
    "    vector_dimension = 200\n",
    "    \n",
    "    embedding_matrix = np.load('variable/microblog_binary_embedding_matrix.npy')\n",
    "\n",
    "    ### Deep Learning model\n",
    "    \n",
    "    input_dimension = txtlen+loclen\n",
    "    inputs = Input(shape=(input_dimension,))\n",
    "    embedding_layer = Embedding(vocab_size, vector_dimension, embeddings_initializer=Constant(embedding_matrix), input_length=input_dimension)(inputs)\n",
    "    \n",
    "    if model_type == \"CNN\":\n",
    "        # CNN\n",
    "        convolution_first = Convolution1D(filters=100, kernel_size=5, activation='relu')(embedding_layer)\n",
    "        convolution_second = Convolution1D(filters=100, kernel_size=4, activation='relu')(convolution_first)\n",
    "        convolution_third = Convolution1D(filters=100, kernel_size=3, activation='relu')(convolution_second)\n",
    "        pooling_max = MaxPooling1D(pool_size=2)(convolution_third)\n",
    "        flatten_layer = Flatten()(pooling_max)\n",
    "        dense = Dense(20, activation=\"relu\")(flatten_layer)\n",
    "        outputs = Dense(units=1, activation='sigmoid')(dense)\n",
    "    \n",
    "    if model_type == \"BiLSTM\":\n",
    "        ### BiLSTM\n",
    "        lstm_first = Bidirectional(LSTM(units=100))(embedding_layer)\n",
    "        dense = Dense(20, activation=\"relu\")(lstm_first)\n",
    "        outputs = Dense(1, activation='sigmoid')(dense)\n",
    "      \n",
    "    if model_type == \"Transformer\":\n",
    "        ### Transformer\n",
    "        num_heads = 2  # Number of attention heads\n",
    "        ff_dim = 32  # Hidden layer size in feed forward network inside transformer\n",
    "        \n",
    "        embedding_layer_weighted = TokenAndPositionEmbedding(input_dimension, vocab_size, vector_dimension, Constant(embedding_matrix))\n",
    "        x = embedding_layer_weighted(inputs)\n",
    "        \n",
    "        transformer_block = TransformerBlock(vector_dimension, num_heads, ff_dim)\n",
    "        x = transformer_block(x)\n",
    "        x = GlobalAveragePooling1D()(x)\n",
    "        x = Dense(20, activation=\"relu\")(x)\n",
    "        outputs = Dense(1, activation='sigmoid')(x)\n",
    "    \n",
    "    # build model\n",
    "    \n",
    "    model = Model(inputs, outputs)\n",
    "    \n",
    "    # compile model\n",
    "    \n",
    "    model.compile(optimizer='adam', loss='binary_crossentropy', metrics=['accuracy'])\n",
    "    \n",
    "    model.load_weights(f\"saved/{task}/1_text_only/{model_type}/{task}_location_False_{model_type}_{i}.h5\")\n",
    "    \n",
    "    #early_stopping_monitor = EarlyStopping(patience=3) #patience: epochs the model can go without improving before we stop training\n",
    "\n",
    "    #history = model.fit(x_train, y_train, validation_split=0.3, epochs=20, callbacks=[early_stopping_monitor], verbose=1) \n",
    "    \n",
    "    # evaluate model\n",
    "    \n",
    "    loss, accuracy = model.evaluate(x_test, y_test, verbose=1)\n",
    "    \n",
    "    return model, loss, accuracy, x_train, x_test"
   ]
  },
  {
   "cell_type": "code",
   "execution_count": 4,
   "id": "fitting-dubai",
   "metadata": {},
   "outputs": [
    {
     "name": "stdout",
     "output_type": "stream",
     "text": [
      "WARNING:tensorflow:From /home/lyner/Documents/SA_Fusing_Text_Location/venv/lib/python3.8/site-packages/tensorflow/python/ops/resource_variable_ops.py:1659: calling BaseResourceVariable.__init__ (from tensorflow.python.ops.resource_variable_ops) with constraint is deprecated and will be removed in a future version.\n",
      "Instructions for updating:\n",
      "If using Keras pass *_constraint arguments to layers.\n"
     ]
    }
   ],
   "source": [
    "### Run \n",
    "\n",
    "task = \"binary\"\n",
    "model_type = \"CNN\"\n",
    "i = 0\n",
    "\n",
    "df_new = pd.DataFrame(columns=[\"accuracy\", \"loss\"])\n",
    "\n",
    "model, loss, accuracy, x_train, x_test= run(task, model_type, i)\n"
   ]
  },
  {
   "cell_type": "code",
   "execution_count": 6,
   "id": "proof-carolina",
   "metadata": {},
   "outputs": [
    {
     "data": {
      "text/plain": [
       "0.82501316"
      ]
     },
     "execution_count": 6,
     "metadata": {},
     "output_type": "execute_result"
    }
   ],
   "source": [
    "accuracy"
   ]
  },
  {
   "cell_type": "code",
   "execution_count": 23,
   "id": "intensive-direction",
   "metadata": {
    "tags": []
   },
   "outputs": [
    {
     "data": {
      "image/png": "[encoded data removed]",
      "text/plain": [
       "<Figure size 576x684 with 1 Axes>"
      ]
     },
     "metadata": {
      "needs_background": "light"
     },
     "output_type": "display_data"
    }
   ],
   "source": [
    "X_train_sample = shap.sample(x_train, 100)\n",
    "X_test_sample = shap.sample(x_test, 20)\n",
    "explainer = shap.DeepExplainer(model, X_train_sample)\n",
    "shap_values = explainer.shap_values(X_test_sample)\n",
    "shap.summary_plot(shap_values, X_test_sample)"
   ]
  },
  {
   "cell_type": "code",
   "execution_count": null,
   "id": "resident-sacramento",
   "metadata": {},
   "outputs": [],
   "source": []
  },
  {
   "cell_type": "code",
   "execution_count": null,
   "id": "alert-training",
   "metadata": {},
   "outputs": [],
   "source": []
  },
  {
   "cell_type": "code",
   "execution_count": null,
   "id": "american-jordan",
   "metadata": {},
   "outputs": [],
   "source": []
  },
  {
   "cell_type": "code",
   "execution_count": null,
   "id": "federal-footwear",
   "metadata": {},
   "outputs": [],
   "source": []
  },
  {
   "cell_type": "code",
   "execution_count": null,
   "id": "fitting-confirmation",
   "metadata": {},
   "outputs": [],
   "source": []
  }
 ],
 "metadata": {
  "kernelspec": {
   "display_name": "Python 3",
   "language": "python",
   "name": "python3"
  },
  "language_info": {
   "codemirror_mode": {
    "name": "ipython",
    "version": 3
   },
   "file_extension": ".py",
   "mimetype": "text/x-python",
   "name": "python",
   "nbconvert_exporter": "python",
   "pygments_lexer": "ipython3",
   "version": "3.8.5"
  }
 },
 "nbformat": 4,
 "nbformat_minor": 5
}
